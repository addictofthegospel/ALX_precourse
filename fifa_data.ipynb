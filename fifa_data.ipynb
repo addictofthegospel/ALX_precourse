{
  "nbformat": 4,
  "nbformat_minor": 0,
  "metadata": {
    "colab": {
      "provenance": [],
      "authorship_tag": "ABX9TyODDEyJuLLAGvTjNDEJ4hlI",
      "include_colab_link": true
    },
    "kernelspec": {
      "name": "python3",
      "display_name": "Python 3"
    },
    "language_info": {
      "name": "python"
    }
  },
  "cells": [
    {
      "cell_type": "markdown",
      "metadata": {
        "id": "view-in-github",
        "colab_type": "text"
      },
      "source": [
        "<a href=\"https://colab.research.google.com/github/osamudiamenojo/ALX_precourse/blob/main/fifa_data.ipynb\" target=\"_parent\"><img src=\"https://colab.research.google.com/assets/colab-badge.svg\" alt=\"Open In Colab\"/></a>"
      ]
    },
    {
      "cell_type": "code",
      "execution_count": 3,
      "metadata": {
        "colab": {
          "base_uri": "https://localhost:8080/"
        },
        "id": "ZWOwLd3B-Mx5",
        "outputId": "434b9362-a994-4429-dce7-76ace149d92d"
      },
      "outputs": [
        {
          "output_type": "stream",
          "name": "stdout",
          "text": [
            "ID\n",
            "Name\n",
            "LongName\n",
            "photoUrl\n",
            "playerUrl\n",
            "Nationality\n",
            "Age\n",
            "↓OVA\n",
            "POT\n",
            "Club\n",
            "Contract\n",
            "Positions\n",
            "Height\n",
            "Weight\n",
            "Preferred Foot\n",
            "BOV\n",
            "Best Position\n",
            "Joined\n",
            "Loan Date End\n",
            "Value\n",
            "Wage\n",
            "Release Clause\n",
            "Attacking\n",
            "Crossing\n",
            "Finishing\n",
            "Heading Accuracy\n",
            "Short Passing\n",
            "Volleys\n",
            "Skill\n",
            "Dribbling\n",
            "Curve\n",
            "FK Accuracy\n",
            "Long Passing\n",
            "Ball Control\n",
            "Movement\n",
            "Acceleration\n",
            "Sprint Speed\n",
            "Agility\n",
            "Reactions\n",
            "Balance\n",
            "Power\n",
            "Shot Power\n",
            "Jumping\n",
            "Stamina\n",
            "Strength\n",
            "Long Shots\n",
            "Mentality\n",
            "Aggression\n",
            "Interceptions\n",
            "Positioning\n",
            "Vision\n",
            "Penalties\n",
            "Composure\n",
            "Defending\n",
            "Marking\n",
            "Standing Tackle\n",
            "Sliding Tackle\n",
            "Goalkeeping\n",
            "GK Diving\n",
            "GK Handling\n",
            "GK Kicking\n",
            "GK Positioning\n",
            "GK Reflexes\n",
            "Total Stats\n",
            "Base Stats\n",
            "W/F\n",
            "SM\n",
            "A/W\n",
            "D/W\n",
            "IR\n",
            "PAC\n",
            "SHO\n",
            "PAS\n",
            "DRI\n",
            "DEF\n",
            "PHY\n",
            "Hits\n"
          ]
        },
        {
          "output_type": "stream",
          "name": "stderr",
          "text": [
            "<ipython-input-3-0f0e3188df69>:2: DtypeWarning: Columns (76) have mixed types. Specify dtype option on import or set low_memory=False.\n",
            "  df=pd.read_csv('/content/fifa_21_raw_data.csv')\n"
          ]
        }
      ],
      "source": [
        "import pandas as pd\n",
        "df=pd.read_csv('/content/fifa_21_raw_data.csv')\n"
      ]
    },
    {
      "cell_type": "code",
      "source": [
        "\n",
        "\n",
        "# Group the dataset by the country column and count the number of players in each country\n",
        "country_counts = df['Nationality'].value_counts()\n",
        "\n",
        "# Take the top 5 countries with the highest player representations\n",
        "top_5_countries = country_counts.head(5)\n",
        "\n",
        "# Convert the result to a dictionary\n",
        "top_5_country = top_5_countries.to_dict()\n",
        "\n",
        "print(top_5_country)\n"
      ],
      "metadata": {
        "colab": {
          "base_uri": "https://localhost:8080/"
        },
        "id": "4rPgxRzRkFXZ",
        "outputId": "1e6dee5f-5549-4be2-b557-72b30334ed7b"
      },
      "execution_count": 18,
      "outputs": [
        {
          "output_type": "stream",
          "name": "stdout",
          "text": [
            "{'England': 1574, 'Germany': 1178, 'Spain': 1019, 'France': 971, 'Argentina': 861}\n"
          ]
        }
      ]
    },
    {
      "cell_type": "markdown",
      "source": [
        "1. Convert the height and weight columns to numerical forms\n",
        "\n"
      ],
      "metadata": {
        "id": "CaQvxut_MWiB"
      }
    },
    {
      "cell_type": "code",
      "source": [
        "df[\"Height\"] = df[\"Height\"].str.replace(r'[^\\d.]', '', regex=True).astype(float)\n",
        "df[\"Weight\"] = df[\"Weight\"].str.replace(r'[^\\d.]', '', regex=True).astype(float)"
      ],
      "metadata": {
        "id": "qao-bgO_Mjn8"
      },
      "execution_count": 10,
      "outputs": []
    },
    {
      "cell_type": "markdown",
      "source": [
        "2. Remove unnecessary newline characters"
      ],
      "metadata": {
        "id": "ksqCHrkxPylx"
      }
    },
    {
      "cell_type": "code",
      "source": [
        "df = df.applymap(lambda x: x.strip() if isinstance(x, str) else x)"
      ],
      "metadata": {
        "id": "UC0xOYIRQfZJ"
      },
      "execution_count": 11,
      "outputs": []
    },
    {
      "cell_type": "markdown",
      "source": [
        "3. Dropping duplicate rows"
      ],
      "metadata": {
        "id": "aVMm9emcQs1H"
      }
    },
    {
      "cell_type": "code",
      "source": [
        "\n",
        "df.drop_duplicates(subset=\"Name\", keep=\"first\", inplace=True)"
      ],
      "metadata": {
        "id": "-sj02HlfRNNB"
      },
      "execution_count": 14,
      "outputs": []
    },
    {
      "cell_type": "markdown",
      "source": [
        "4. Split longname into first and last name"
      ],
      "metadata": {
        "id": "zKV-YKx5RxSd"
      }
    },
    {
      "cell_type": "code",
      "source": [
        "name_split = df[\"LongName\"].str.split(' ', n=1, expand=True)\n",
        "\n",
        "# Create new \"FirstName\" and \"LastName\" columns\n",
        "df[\"FirstName\"] = name_split[0]\n",
        "df[\"LastName\"] = name_split[1]"
      ],
      "metadata": {
        "id": "A7ztihxOSaeG"
      },
      "execution_count": 15,
      "outputs": []
    },
    {
      "cell_type": "markdown",
      "source": [
        "5. Handling missing values by filling with mean for only numerical columns"
      ],
      "metadata": {
        "id": "dQS7OQ5bTlHm"
      }
    },
    {
      "cell_type": "code",
      "source": [
        "\n",
        "numerical_columns = df.select_dtypes(include=['number'])\n",
        "print(numerical_columns)\n",
        "\n",
        "# Fill missing values in numerical columns with the mean of the respective columns\n",
        "numerical_columns.fillna(numerical_columns.mean(), inplace=True)\n",
        "\n",
        "# Update the original DataFrame with the filled values\n",
        "df.update(numerical_columns)\n"
      ],
      "metadata": {
        "colab": {
          "base_uri": "https://localhost:8080/"
        },
        "id": "rpZo6RJuT1D_",
        "outputId": "f776b90f-6228-4426-ab97-e36a2329525d"
      },
      "execution_count": 16,
      "outputs": [
        {
          "output_type": "stream",
          "name": "stdout",
          "text": [
            "           ID  Age  ↓OVA  POT  Height  Weight  BOV  Attacking  Crossing  \\\n",
            "0      158023   33    93   93   170.0    72.0   93        429        85   \n",
            "1       20801   35    92   92   187.0    83.0   92        437        84   \n",
            "2      200389   27    91   93   188.0    87.0   91         95        13   \n",
            "3      192985   29    91   91   181.0    70.0   91        407        94   \n",
            "4      190871   28    91   91   175.0    68.0   91        408        85   \n",
            "...       ...  ...   ...  ...     ...     ...  ...        ...       ...   \n",
            "18974  247223   21    47   55   178.0    66.0   49        145        23   \n",
            "18975  258760   17    47   67   175.0    65.0   51        211        38   \n",
            "18976  252757   18    47   65   179.0    74.0   49        200        30   \n",
            "18977  243790   20    47   57   175.0    69.0   48        215        45   \n",
            "18978  252520   21    47   57   188.0    75.0   50        163        40   \n",
            "\n",
            "       Finishing  ...  GK Positioning  GK Reflexes  Total Stats  Base Stats  \\\n",
            "0             95  ...              14            8         2231         466   \n",
            "1             95  ...              14           11         2221         464   \n",
            "2             11  ...              90           90         1413         489   \n",
            "3             82  ...              10           13         2304         485   \n",
            "4             87  ...              15           11         2175         451   \n",
            "...          ...  ...             ...          ...          ...         ...   \n",
            "18974         26  ...              14           11         1186         255   \n",
            "18975         42  ...               6            8         1315         281   \n",
            "18976         34  ...               6           11         1338         285   \n",
            "18977         52  ...               8           12         1243         271   \n",
            "18978         18  ...              10           12         1215         265   \n",
            "\n",
            "       PAC  SHO  PAS  DRI  DEF  PHY  \n",
            "0       85   92   91   95   38   65  \n",
            "1       89   93   81   89   35   77  \n",
            "2       87   92   78   90   52   90  \n",
            "3       76   86   93   88   64   78  \n",
            "4       91   85   86   94   36   59  \n",
            "...    ...  ...  ...  ...  ...  ...  \n",
            "18974   64   28   26   38   48   51  \n",
            "18975   64   40   48   49   35   45  \n",
            "18976   63   39   44   46   40   53  \n",
            "18977   58   49   41   49   30   44  \n",
            "18978   62   22   39   42   45   55  \n",
            "\n",
            "[17920 rows x 56 columns]\n"
          ]
        }
      ]
    },
    {
      "cell_type": "markdown",
      "source": [],
      "metadata": {
        "id": "9w8ENDaqT_OX"
      }
    }
  ]
}